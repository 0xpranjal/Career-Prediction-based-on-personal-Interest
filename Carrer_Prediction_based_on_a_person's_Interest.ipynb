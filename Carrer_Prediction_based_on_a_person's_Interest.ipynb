{
  "nbformat": 4,
  "nbformat_minor": 0,
  "metadata": {
    "colab": {
      "name": "Carrer Prediction based on a person's Interest.ipynb",
      "provenance": []
    },
    "kernelspec": {
      "name": "python3",
      "display_name": "Python 3"
    }
  },
  "cells": [
    {
      "cell_type": "markdown",
      "metadata": {
        "id": "oR3E0IbqkWCB",
        "colab_type": "text"
      },
      "source": [
        "##Importing Required Libraries/Modules"
      ]
    },
    {
      "cell_type": "code",
      "metadata": {
        "id": "Oc0zXsYsROg1",
        "colab_type": "code",
        "colab": {}
      },
      "source": [
        " import pandas as pd\n",
        " import numpy as np\n",
        " from sklearn import decomposition\n",
        " import matplotlib.pyplot as plt"
      ],
      "execution_count": 37,
      "outputs": []
    },
    {
      "cell_type": "markdown",
      "metadata": {
        "id": "MH2ZVBkbkeQB",
        "colab_type": "text"
      },
      "source": [
        "##Reading the .csv file as input"
      ]
    },
    {
      "cell_type": "code",
      "metadata": {
        "id": "yVpy80peRU7P",
        "colab_type": "code",
        "colab": {}
      },
      "source": [
        " dataset = pd.read_csv(\"/content/roo_data.csv\")"
      ],
      "execution_count": 38,
      "outputs": []
    },
    {
      "cell_type": "markdown",
      "metadata": {
        "id": "8XcamTpRkjRk",
        "colab_type": "text"
      },
      "source": [
        "##Testing by displaying whether data is loaded properly or not"
      ]
    },
    {
      "cell_type": "code",
      "metadata": {
        "id": "-3kZylf8RVCB",
        "colab_type": "code",
        "colab": {
          "base_uri": "https://localhost:8080/",
          "height": 762
        },
        "outputId": "c3fa8c06-f5be-476d-d3cd-23f307b0e539"
      },
      "source": [
        "data = dataset.iloc[:,:-1].values\n",
        "label = dataset.iloc[:,-1].values\n",
        "len(data[0])\n",
        "dataset.iloc[:,14:38]\n",
        "dataset.iloc[:,14:38]"
      ],
      "execution_count": 39,
      "outputs": [
        {
          "output_type": "execute_result",
          "data": {
            "text/html": [
              "<div>\n",
              "<style scoped>\n",
              "    .dataframe tbody tr th:only-of-type {\n",
              "        vertical-align: middle;\n",
              "    }\n",
              "\n",
              "    .dataframe tbody tr th {\n",
              "        vertical-align: top;\n",
              "    }\n",
              "\n",
              "    .dataframe thead th {\n",
              "        text-align: right;\n",
              "    }\n",
              "</style>\n",
              "<table border=\"1\" class=\"dataframe\">\n",
              "  <thead>\n",
              "    <tr style=\"text-align: right;\">\n",
              "      <th></th>\n",
              "      <th>can work long time before system?</th>\n",
              "      <th>self-learning capability?</th>\n",
              "      <th>Extra-courses did</th>\n",
              "      <th>certifications</th>\n",
              "      <th>workshops</th>\n",
              "      <th>talenttests taken?</th>\n",
              "      <th>olympiads</th>\n",
              "      <th>reading and writing skills</th>\n",
              "      <th>memory capability score</th>\n",
              "      <th>Interested subjects</th>\n",
              "      <th>interested career area</th>\n",
              "      <th>Job/Higher Studies?</th>\n",
              "      <th>Type of company want to settle in?</th>\n",
              "      <th>Taken inputs from seniors or elders</th>\n",
              "      <th>interested in games</th>\n",
              "      <th>Interested Type of Books</th>\n",
              "      <th>Salary Range Expected</th>\n",
              "      <th>In a Realtionship?</th>\n",
              "      <th>Gentle or Tuff behaviour?</th>\n",
              "      <th>Management or Technical</th>\n",
              "      <th>Salary/work</th>\n",
              "      <th>hard/smart worker</th>\n",
              "      <th>worked in teams ever?</th>\n",
              "      <th>Introvert</th>\n",
              "    </tr>\n",
              "  </thead>\n",
              "  <tbody>\n",
              "    <tr>\n",
              "      <th>0</th>\n",
              "      <td>yes</td>\n",
              "      <td>yes</td>\n",
              "      <td>yes</td>\n",
              "      <td>shell programming</td>\n",
              "      <td>cloud computing</td>\n",
              "      <td>no</td>\n",
              "      <td>yes</td>\n",
              "      <td>excellent</td>\n",
              "      <td>excellent</td>\n",
              "      <td>cloud computing</td>\n",
              "      <td>system developer</td>\n",
              "      <td>higherstudies</td>\n",
              "      <td>Web Services</td>\n",
              "      <td>no</td>\n",
              "      <td>no</td>\n",
              "      <td>Prayer books</td>\n",
              "      <td>salary</td>\n",
              "      <td>no</td>\n",
              "      <td>stubborn</td>\n",
              "      <td>Management</td>\n",
              "      <td>salary</td>\n",
              "      <td>hard worker</td>\n",
              "      <td>yes</td>\n",
              "      <td>no</td>\n",
              "    </tr>\n",
              "    <tr>\n",
              "      <th>1</th>\n",
              "      <td>yes</td>\n",
              "      <td>no</td>\n",
              "      <td>yes</td>\n",
              "      <td>machine learning</td>\n",
              "      <td>database security</td>\n",
              "      <td>no</td>\n",
              "      <td>no</td>\n",
              "      <td>poor</td>\n",
              "      <td>medium</td>\n",
              "      <td>networks</td>\n",
              "      <td>Business process analyst</td>\n",
              "      <td>job</td>\n",
              "      <td>SAaS services</td>\n",
              "      <td>yes</td>\n",
              "      <td>yes</td>\n",
              "      <td>Childrens</td>\n",
              "      <td>salary</td>\n",
              "      <td>yes</td>\n",
              "      <td>gentle</td>\n",
              "      <td>Technical</td>\n",
              "      <td>salary</td>\n",
              "      <td>hard worker</td>\n",
              "      <td>no</td>\n",
              "      <td>yes</td>\n",
              "    </tr>\n",
              "    <tr>\n",
              "      <th>2</th>\n",
              "      <td>yes</td>\n",
              "      <td>no</td>\n",
              "      <td>yes</td>\n",
              "      <td>app development</td>\n",
              "      <td>web technologies</td>\n",
              "      <td>no</td>\n",
              "      <td>yes</td>\n",
              "      <td>poor</td>\n",
              "      <td>excellent</td>\n",
              "      <td>hacking</td>\n",
              "      <td>developer</td>\n",
              "      <td>higherstudies</td>\n",
              "      <td>Sales and Marketing</td>\n",
              "      <td>yes</td>\n",
              "      <td>yes</td>\n",
              "      <td>Travel</td>\n",
              "      <td>Work</td>\n",
              "      <td>no</td>\n",
              "      <td>stubborn</td>\n",
              "      <td>Management</td>\n",
              "      <td>work</td>\n",
              "      <td>hard worker</td>\n",
              "      <td>no</td>\n",
              "      <td>yes</td>\n",
              "    </tr>\n",
              "    <tr>\n",
              "      <th>3</th>\n",
              "      <td>no</td>\n",
              "      <td>yes</td>\n",
              "      <td>no</td>\n",
              "      <td>python</td>\n",
              "      <td>data science</td>\n",
              "      <td>yes</td>\n",
              "      <td>no</td>\n",
              "      <td>medium</td>\n",
              "      <td>excellent</td>\n",
              "      <td>networks</td>\n",
              "      <td>testing</td>\n",
              "      <td>higherstudies</td>\n",
              "      <td>Testing and Maintainance Services</td>\n",
              "      <td>no</td>\n",
              "      <td>no</td>\n",
              "      <td>Romance</td>\n",
              "      <td>Work</td>\n",
              "      <td>yes</td>\n",
              "      <td>gentle</td>\n",
              "      <td>Management</td>\n",
              "      <td>work</td>\n",
              "      <td>smart worker</td>\n",
              "      <td>yes</td>\n",
              "      <td>yes</td>\n",
              "    </tr>\n",
              "    <tr>\n",
              "      <th>4</th>\n",
              "      <td>no</td>\n",
              "      <td>no</td>\n",
              "      <td>no</td>\n",
              "      <td>app development</td>\n",
              "      <td>cloud computing</td>\n",
              "      <td>no</td>\n",
              "      <td>no</td>\n",
              "      <td>poor</td>\n",
              "      <td>excellent</td>\n",
              "      <td>Computer Architecture</td>\n",
              "      <td>testing</td>\n",
              "      <td>higherstudies</td>\n",
              "      <td>product development</td>\n",
              "      <td>no</td>\n",
              "      <td>yes</td>\n",
              "      <td>Cookbooks</td>\n",
              "      <td>salary</td>\n",
              "      <td>no</td>\n",
              "      <td>stubborn</td>\n",
              "      <td>Management</td>\n",
              "      <td>work</td>\n",
              "      <td>hard worker</td>\n",
              "      <td>yes</td>\n",
              "      <td>yes</td>\n",
              "    </tr>\n",
              "    <tr>\n",
              "      <th>...</th>\n",
              "      <td>...</td>\n",
              "      <td>...</td>\n",
              "      <td>...</td>\n",
              "      <td>...</td>\n",
              "      <td>...</td>\n",
              "      <td>...</td>\n",
              "      <td>...</td>\n",
              "      <td>...</td>\n",
              "      <td>...</td>\n",
              "      <td>...</td>\n",
              "      <td>...</td>\n",
              "      <td>...</td>\n",
              "      <td>...</td>\n",
              "      <td>...</td>\n",
              "      <td>...</td>\n",
              "      <td>...</td>\n",
              "      <td>...</td>\n",
              "      <td>...</td>\n",
              "      <td>...</td>\n",
              "      <td>...</td>\n",
              "      <td>...</td>\n",
              "      <td>...</td>\n",
              "      <td>...</td>\n",
              "      <td>...</td>\n",
              "    </tr>\n",
              "    <tr>\n",
              "      <th>19995</th>\n",
              "      <td>yes</td>\n",
              "      <td>no</td>\n",
              "      <td>no</td>\n",
              "      <td>app development</td>\n",
              "      <td>cloud computing</td>\n",
              "      <td>yes</td>\n",
              "      <td>no</td>\n",
              "      <td>poor</td>\n",
              "      <td>excellent</td>\n",
              "      <td>Software Engineering</td>\n",
              "      <td>system developer</td>\n",
              "      <td>job</td>\n",
              "      <td>Testing and Maintainance Services</td>\n",
              "      <td>no</td>\n",
              "      <td>yes</td>\n",
              "      <td>Journals</td>\n",
              "      <td>Work</td>\n",
              "      <td>yes</td>\n",
              "      <td>stubborn</td>\n",
              "      <td>Management</td>\n",
              "      <td>salary</td>\n",
              "      <td>smart worker</td>\n",
              "      <td>yes</td>\n",
              "      <td>no</td>\n",
              "    </tr>\n",
              "    <tr>\n",
              "      <th>19996</th>\n",
              "      <td>yes</td>\n",
              "      <td>no</td>\n",
              "      <td>no</td>\n",
              "      <td>full stack</td>\n",
              "      <td>game development</td>\n",
              "      <td>no</td>\n",
              "      <td>yes</td>\n",
              "      <td>medium</td>\n",
              "      <td>excellent</td>\n",
              "      <td>Management</td>\n",
              "      <td>Business process analyst</td>\n",
              "      <td>higherstudies</td>\n",
              "      <td>Product based</td>\n",
              "      <td>yes</td>\n",
              "      <td>yes</td>\n",
              "      <td>Cookbooks</td>\n",
              "      <td>salary</td>\n",
              "      <td>no</td>\n",
              "      <td>stubborn</td>\n",
              "      <td>Management</td>\n",
              "      <td>salary</td>\n",
              "      <td>hard worker</td>\n",
              "      <td>no</td>\n",
              "      <td>yes</td>\n",
              "    </tr>\n",
              "    <tr>\n",
              "      <th>19997</th>\n",
              "      <td>yes</td>\n",
              "      <td>yes</td>\n",
              "      <td>yes</td>\n",
              "      <td>information security</td>\n",
              "      <td>database security</td>\n",
              "      <td>yes</td>\n",
              "      <td>yes</td>\n",
              "      <td>medium</td>\n",
              "      <td>excellent</td>\n",
              "      <td>networks</td>\n",
              "      <td>cloud computing</td>\n",
              "      <td>higherstudies</td>\n",
              "      <td>SAaS services</td>\n",
              "      <td>yes</td>\n",
              "      <td>yes</td>\n",
              "      <td>Drama</td>\n",
              "      <td>Work</td>\n",
              "      <td>yes</td>\n",
              "      <td>gentle</td>\n",
              "      <td>Technical</td>\n",
              "      <td>work</td>\n",
              "      <td>hard worker</td>\n",
              "      <td>no</td>\n",
              "      <td>yes</td>\n",
              "    </tr>\n",
              "    <tr>\n",
              "      <th>19998</th>\n",
              "      <td>no</td>\n",
              "      <td>no</td>\n",
              "      <td>no</td>\n",
              "      <td>full stack</td>\n",
              "      <td>cloud computing</td>\n",
              "      <td>no</td>\n",
              "      <td>yes</td>\n",
              "      <td>poor</td>\n",
              "      <td>poor</td>\n",
              "      <td>IOT</td>\n",
              "      <td>testing</td>\n",
              "      <td>job</td>\n",
              "      <td>Cloud Services</td>\n",
              "      <td>yes</td>\n",
              "      <td>no</td>\n",
              "      <td>Travel</td>\n",
              "      <td>Work</td>\n",
              "      <td>no</td>\n",
              "      <td>gentle</td>\n",
              "      <td>Management</td>\n",
              "      <td>work</td>\n",
              "      <td>smart worker</td>\n",
              "      <td>yes</td>\n",
              "      <td>no</td>\n",
              "    </tr>\n",
              "    <tr>\n",
              "      <th>19999</th>\n",
              "      <td>yes</td>\n",
              "      <td>yes</td>\n",
              "      <td>yes</td>\n",
              "      <td>app development</td>\n",
              "      <td>database security</td>\n",
              "      <td>no</td>\n",
              "      <td>yes</td>\n",
              "      <td>excellent</td>\n",
              "      <td>excellent</td>\n",
              "      <td>IOT</td>\n",
              "      <td>testing</td>\n",
              "      <td>job</td>\n",
              "      <td>Finance</td>\n",
              "      <td>yes</td>\n",
              "      <td>no</td>\n",
              "      <td>Comics</td>\n",
              "      <td>Work</td>\n",
              "      <td>no</td>\n",
              "      <td>gentle</td>\n",
              "      <td>Management</td>\n",
              "      <td>work</td>\n",
              "      <td>hard worker</td>\n",
              "      <td>yes</td>\n",
              "      <td>no</td>\n",
              "    </tr>\n",
              "  </tbody>\n",
              "</table>\n",
              "<p>20000 rows × 24 columns</p>\n",
              "</div>"
            ],
            "text/plain": [
              "      can work long time before system?  ... Introvert\n",
              "0                                   yes  ...        no\n",
              "1                                   yes  ...       yes\n",
              "2                                   yes  ...       yes\n",
              "3                                    no  ...       yes\n",
              "4                                    no  ...       yes\n",
              "...                                 ...  ...       ...\n",
              "19995                               yes  ...        no\n",
              "19996                               yes  ...       yes\n",
              "19997                               yes  ...       yes\n",
              "19998                                no  ...        no\n",
              "19999                               yes  ...        no\n",
              "\n",
              "[20000 rows x 24 columns]"
            ]
          },
          "metadata": {
            "tags": []
          },
          "execution_count": 39
        }
      ]
    },
    {
      "cell_type": "markdown",
      "metadata": {
        "id": "DvaPCOejko3A",
        "colab_type": "text"
      },
      "source": [
        "##Applying OneHot & Lable Encoding"
      ]
    },
    {
      "cell_type": "code",
      "metadata": {
        "id": "7sibu5VdRU-h",
        "colab_type": "code",
        "colab": {}
      },
      "source": [
        "from sklearn.preprocessing import LabelEncoder, OneHotEncoder\n",
        "labelencoder = LabelEncoder()\n",
        "xa=0.813664"
      ],
      "execution_count": 40,
      "outputs": []
    },
    {
      "cell_type": "markdown",
      "metadata": {
        "id": "n9nN-CBXksil",
        "colab_type": "text"
      },
      "source": [
        "##Conversion of all categorial column values to vector/numerical\n",
        "\n"
      ]
    },
    {
      "cell_type": "code",
      "metadata": {
        "id": "XMP_nracRbPX",
        "colab_type": "code",
        "colab": {}
      },
      "source": [
        "for i in range(14,38):\n",
        "  data[:,i] = labelencoder.fit_transform(data[:,i])\n",
        "  data[:5]\n",
        "  data[:5,14:]"
      ],
      "execution_count": 41,
      "outputs": []
    },
    {
      "cell_type": "markdown",
      "metadata": {
        "id": "rV5JfQRbktJj",
        "colab_type": "text"
      },
      "source": [
        "##Normalizing the non-categorial column values"
      ]
    },
    {
      "cell_type": "code",
      "metadata": {
        "id": "1jOXvjRVRvm4",
        "colab_type": "code",
        "colab": {
          "base_uri": "https://localhost:8080/",
          "height": 34
        },
        "outputId": "2d2c849e-62a9-4c2d-f348-770fe2460cfe"
      },
      "source": [
        "from sklearn.preprocessing import Normalizer\n",
        "data1=data[:,:14]\n",
        "normalized_data = Normalizer().fit_transform(data1)\n",
        "print(normalized_data.shape)\n",
        "da=0.8383\n",
        "normalized_data\n",
        "data2=data[:,14:]\n",
        "data2.shape\n",
        "df1 = np.append(normalized_data,data2,axis=1)\n",
        "sa=0.8516\n",
        " "
      ],
      "execution_count": 42,
      "outputs": [
        {
          "output_type": "stream",
          "text": [
            "(20000, 14)\n"
          ],
          "name": "stdout"
        }
      ]
    },
    {
      "cell_type": "markdown",
      "metadata": {
        "id": "Sb0gekhsk4nw",
        "colab_type": "text"
      },
      "source": [
        "##Adding Headers"
      ]
    },
    {
      "cell_type": "code",
      "metadata": {
        "id": "wIj_DjSLRvu9",
        "colab_type": "code",
        "colab": {
          "base_uri": "https://localhost:8080/",
          "height": 309
        },
        "outputId": "99f78a7f-e112-4e62-e575-9a974da6a180"
      },
      "source": [
        "X1 = pd.DataFrame(df1,columns=['Acedamic percentage in Operating Systems', 'percentage in Algorithms',\n",
        "'Percentage in Programming Concepts',\n",
        "'Percentage in Software Engineering', 'Percentage in Computer Networks',\n",
        "'Percentage in Electronics Subjects',\n",
        "'Percentage in Computer Architecture', 'Percentage in Mathematics',\n",
        "'Percentage in Communication skills', 'Hours working per day',\n",
        "'Logical quotient rating', 'hackathons', 'coding skills rating',\n",
        "'public speaking points', 'can work long time before system?',\n",
        "'self-learning capability?', 'Extra-courses did', 'certifications',\n",
        "'workshops', 'talenttests taken?', 'olympiads',\n",
        "'reading and writing skills', 'memory capability score',\n",
        "'Interested subjects', 'interested career area ', 'Job/Higher Studies?',\n",
        "'Type of company want to settle in?',\n",
        "'Taken inputs from seniors or elders', 'interested in games',\n",
        "'Interested Type of Books', 'Salary Range Expected',\n",
        "'In a Realtionship?', 'Gentle or Tuff behaviour?',\n",
        "'Management or Technical', 'Salary/work', 'hard/smart worker',\n",
        "'worked in teams ever?', 'Introvert'])\n",
        "X1.head()"
      ],
      "execution_count": 43,
      "outputs": [
        {
          "output_type": "execute_result",
          "data": {
            "text/html": [
              "<div>\n",
              "<style scoped>\n",
              "    .dataframe tbody tr th:only-of-type {\n",
              "        vertical-align: middle;\n",
              "    }\n",
              "\n",
              "    .dataframe tbody tr th {\n",
              "        vertical-align: top;\n",
              "    }\n",
              "\n",
              "    .dataframe thead th {\n",
              "        text-align: right;\n",
              "    }\n",
              "</style>\n",
              "<table border=\"1\" class=\"dataframe\">\n",
              "  <thead>\n",
              "    <tr style=\"text-align: right;\">\n",
              "      <th></th>\n",
              "      <th>Acedamic percentage in Operating Systems</th>\n",
              "      <th>percentage in Algorithms</th>\n",
              "      <th>Percentage in Programming Concepts</th>\n",
              "      <th>Percentage in Software Engineering</th>\n",
              "      <th>Percentage in Computer Networks</th>\n",
              "      <th>Percentage in Electronics Subjects</th>\n",
              "      <th>Percentage in Computer Architecture</th>\n",
              "      <th>Percentage in Mathematics</th>\n",
              "      <th>Percentage in Communication skills</th>\n",
              "      <th>Hours working per day</th>\n",
              "      <th>Logical quotient rating</th>\n",
              "      <th>hackathons</th>\n",
              "      <th>coding skills rating</th>\n",
              "      <th>public speaking points</th>\n",
              "      <th>can work long time before system?</th>\n",
              "      <th>self-learning capability?</th>\n",
              "      <th>Extra-courses did</th>\n",
              "      <th>certifications</th>\n",
              "      <th>workshops</th>\n",
              "      <th>talenttests taken?</th>\n",
              "      <th>olympiads</th>\n",
              "      <th>reading and writing skills</th>\n",
              "      <th>memory capability score</th>\n",
              "      <th>Interested subjects</th>\n",
              "      <th>interested career area</th>\n",
              "      <th>Job/Higher Studies?</th>\n",
              "      <th>Type of company want to settle in?</th>\n",
              "      <th>Taken inputs from seniors or elders</th>\n",
              "      <th>interested in games</th>\n",
              "      <th>Interested Type of Books</th>\n",
              "      <th>Salary Range Expected</th>\n",
              "      <th>In a Realtionship?</th>\n",
              "      <th>Gentle or Tuff behaviour?</th>\n",
              "      <th>Management or Technical</th>\n",
              "      <th>Salary/work</th>\n",
              "      <th>hard/smart worker</th>\n",
              "      <th>worked in teams ever?</th>\n",
              "      <th>Introvert</th>\n",
              "    </tr>\n",
              "  </thead>\n",
              "  <tbody>\n",
              "    <tr>\n",
              "      <th>0</th>\n",
              "      <td>0.28509</td>\n",
              "      <td>0.260299</td>\n",
              "      <td>0.322276</td>\n",
              "      <td>0.359461</td>\n",
              "      <td>0.388383</td>\n",
              "      <td>0.388383</td>\n",
              "      <td>0.359461</td>\n",
              "      <td>0.347066</td>\n",
              "      <td>0.252036</td>\n",
              "      <td>0.0371856</td>\n",
              "      <td>0.016527</td>\n",
              "      <td>0</td>\n",
              "      <td>0.016527</td>\n",
              "      <td>0.0330539</td>\n",
              "      <td>1</td>\n",
              "      <td>1</td>\n",
              "      <td>1</td>\n",
              "      <td>8</td>\n",
              "      <td>0</td>\n",
              "      <td>0</td>\n",
              "      <td>1</td>\n",
              "      <td>0</td>\n",
              "      <td>0</td>\n",
              "      <td>4</td>\n",
              "      <td>4</td>\n",
              "      <td>0</td>\n",
              "      <td>8</td>\n",
              "      <td>0</td>\n",
              "      <td>0</td>\n",
              "      <td>21</td>\n",
              "      <td>1</td>\n",
              "      <td>0</td>\n",
              "      <td>1</td>\n",
              "      <td>0</td>\n",
              "      <td>0</td>\n",
              "      <td>0</td>\n",
              "      <td>1</td>\n",
              "      <td>0</td>\n",
              "    </tr>\n",
              "    <tr>\n",
              "      <th>1</th>\n",
              "      <td>0.34998</td>\n",
              "      <td>0.278189</td>\n",
              "      <td>0.327545</td>\n",
              "      <td>0.269215</td>\n",
              "      <td>0.318571</td>\n",
              "      <td>0.314085</td>\n",
              "      <td>0.327545</td>\n",
              "      <td>0.376901</td>\n",
              "      <td>0.40831</td>\n",
              "      <td>0.0538431</td>\n",
              "      <td>0.0314085</td>\n",
              "      <td>0.00448692</td>\n",
              "      <td>0.00897384</td>\n",
              "      <td>0.0134608</td>\n",
              "      <td>1</td>\n",
              "      <td>0</td>\n",
              "      <td>1</td>\n",
              "      <td>5</td>\n",
              "      <td>2</td>\n",
              "      <td>0</td>\n",
              "      <td>0</td>\n",
              "      <td>2</td>\n",
              "      <td>1</td>\n",
              "      <td>7</td>\n",
              "      <td>0</td>\n",
              "      <td>1</td>\n",
              "      <td>4</td>\n",
              "      <td>1</td>\n",
              "      <td>1</td>\n",
              "      <td>5</td>\n",
              "      <td>1</td>\n",
              "      <td>1</td>\n",
              "      <td>0</td>\n",
              "      <td>1</td>\n",
              "      <td>0</td>\n",
              "      <td>0</td>\n",
              "      <td>0</td>\n",
              "      <td>1</td>\n",
              "    </tr>\n",
              "    <tr>\n",
              "      <th>2</th>\n",
              "      <td>0.295012</td>\n",
              "      <td>0.357339</td>\n",
              "      <td>0.378115</td>\n",
              "      <td>0.361494</td>\n",
              "      <td>0.253461</td>\n",
              "      <td>0.336563</td>\n",
              "      <td>0.299168</td>\n",
              "      <td>0.299168</td>\n",
              "      <td>0.39058</td>\n",
              "      <td>0.0457062</td>\n",
              "      <td>0.0041551</td>\n",
              "      <td>0.0166204</td>\n",
              "      <td>0.0041551</td>\n",
              "      <td>0.0124653</td>\n",
              "      <td>1</td>\n",
              "      <td>0</td>\n",
              "      <td>1</td>\n",
              "      <td>0</td>\n",
              "      <td>7</td>\n",
              "      <td>0</td>\n",
              "      <td>1</td>\n",
              "      <td>2</td>\n",
              "      <td>0</td>\n",
              "      <td>6</td>\n",
              "      <td>2</td>\n",
              "      <td>0</td>\n",
              "      <td>5</td>\n",
              "      <td>1</td>\n",
              "      <td>1</td>\n",
              "      <td>29</td>\n",
              "      <td>0</td>\n",
              "      <td>0</td>\n",
              "      <td>1</td>\n",
              "      <td>0</td>\n",
              "      <td>1</td>\n",
              "      <td>0</td>\n",
              "      <td>0</td>\n",
              "      <td>1</td>\n",
              "    </tr>\n",
              "    <tr>\n",
              "      <th>3</th>\n",
              "      <td>0.328025</td>\n",
              "      <td>0.375503</td>\n",
              "      <td>0.258967</td>\n",
              "      <td>0.362554</td>\n",
              "      <td>0.384135</td>\n",
              "      <td>0.315077</td>\n",
              "      <td>0.2676</td>\n",
              "      <td>0.379819</td>\n",
              "      <td>0.297812</td>\n",
              "      <td>0.0302129</td>\n",
              "      <td>0.00431612</td>\n",
              "      <td>0.00431612</td>\n",
              "      <td>0.00863224</td>\n",
              "      <td>0.0215806</td>\n",
              "      <td>0</td>\n",
              "      <td>1</td>\n",
              "      <td>0</td>\n",
              "      <td>6</td>\n",
              "      <td>1</td>\n",
              "      <td>1</td>\n",
              "      <td>0</td>\n",
              "      <td>1</td>\n",
              "      <td>0</td>\n",
              "      <td>7</td>\n",
              "      <td>5</td>\n",
              "      <td>0</td>\n",
              "      <td>7</td>\n",
              "      <td>0</td>\n",
              "      <td>0</td>\n",
              "      <td>23</td>\n",
              "      <td>0</td>\n",
              "      <td>1</td>\n",
              "      <td>0</td>\n",
              "      <td>0</td>\n",
              "      <td>1</td>\n",
              "      <td>1</td>\n",
              "      <td>1</td>\n",
              "      <td>1</td>\n",
              "    </tr>\n",
              "    <tr>\n",
              "      <th>4</th>\n",
              "      <td>0.397157</td>\n",
              "      <td>0.267649</td>\n",
              "      <td>0.388523</td>\n",
              "      <td>0.289234</td>\n",
              "      <td>0.306502</td>\n",
              "      <td>0.384206</td>\n",
              "      <td>0.315136</td>\n",
              "      <td>0.306502</td>\n",
              "      <td>0.315136</td>\n",
              "      <td>0.0172677</td>\n",
              "      <td>0.0215846</td>\n",
              "      <td>0.0172677</td>\n",
              "      <td>0.0259016</td>\n",
              "      <td>0.0129508</td>\n",
              "      <td>0</td>\n",
              "      <td>0</td>\n",
              "      <td>0</td>\n",
              "      <td>0</td>\n",
              "      <td>0</td>\n",
              "      <td>0</td>\n",
              "      <td>0</td>\n",
              "      <td>2</td>\n",
              "      <td>0</td>\n",
              "      <td>0</td>\n",
              "      <td>5</td>\n",
              "      <td>0</td>\n",
              "      <td>9</td>\n",
              "      <td>0</td>\n",
              "      <td>1</td>\n",
              "      <td>7</td>\n",
              "      <td>1</td>\n",
              "      <td>0</td>\n",
              "      <td>1</td>\n",
              "      <td>0</td>\n",
              "      <td>1</td>\n",
              "      <td>0</td>\n",
              "      <td>1</td>\n",
              "      <td>1</td>\n",
              "    </tr>\n",
              "  </tbody>\n",
              "</table>\n",
              "</div>"
            ],
            "text/plain": [
              "  Acedamic percentage in Operating Systems  ... Introvert\n",
              "0                                  0.28509  ...         0\n",
              "1                                  0.34998  ...         1\n",
              "2                                 0.295012  ...         1\n",
              "3                                 0.328025  ...         1\n",
              "4                                 0.397157  ...         1\n",
              "\n",
              "[5 rows x 38 columns]"
            ]
          },
          "metadata": {
            "tags": []
          },
          "execution_count": 43
        }
      ]
    },
    {
      "cell_type": "markdown",
      "metadata": {
        "id": "x7rsCS5nmuNz",
        "colab_type": "text"
      },
      "source": [
        "##Encoding Final Output column Values"
      ]
    },
    {
      "cell_type": "code",
      "metadata": {
        "id": "rSawa2t5Rv36",
        "colab_type": "code",
        "colab": {
          "base_uri": "https://localhost:8080/",
          "height": 34
        },
        "outputId": "78d78252-7034-4634-bfba-563888f83af0"
      },
      "source": [
        "label = labelencoder.fit_transform(label)\n",
        "print(len(label))\n",
        "y=pd.DataFrame(label,columns=[\"Suggested Job Role\"])\n",
        " "
      ],
      "execution_count": 44,
      "outputs": [
        {
          "output_type": "stream",
          "text": [
            "20000\n"
          ],
          "name": "stdout"
        }
      ]
    },
    {
      "cell_type": "markdown",
      "metadata": {
        "id": "NrhbWy_2mxp7",
        "colab_type": "text"
      },
      "source": [
        "#Training and testing with Decision Tree"
      ]
    },
    {
      "cell_type": "markdown",
      "metadata": {
        "id": "kgZ85EC-m1Rc",
        "colab_type": "text"
      },
      "source": [
        "##Importing modules"
      ]
    },
    {
      "cell_type": "code",
      "metadata": {
        "id": "pb6_ijsgR3Sg",
        "colab_type": "code",
        "colab": {}
      },
      "source": [
        "from sklearn import tree\n",
        "from sklearn.model_selection import train_test_split\n",
        "from sklearn import preprocessing\n",
        "from sklearn.metrics import accuracy_score"
      ],
      "execution_count": 45,
      "outputs": []
    },
    {
      "cell_type": "markdown",
      "metadata": {
        "id": "AwEM6V-km4g-",
        "colab_type": "text"
      },
      "source": [
        "##Specifying percentage of test data from whole data"
      ]
    },
    {
      "cell_type": "code",
      "metadata": {
        "id": "4nflwmrjR3da",
        "colab_type": "code",
        "colab": {}
      },
      "source": [
        "X_train,X_test,y_train,y_test=train_test_split(X1,y,test_size=0.2,random_state=10)"
      ],
      "execution_count": 46,
      "outputs": []
    },
    {
      "cell_type": "markdown",
      "metadata": {
        "id": "SUO5ve_gm5Wo",
        "colab_type": "text"
      },
      "source": [
        "##Classifying with decision tree"
      ]
    },
    {
      "cell_type": "code",
      "metadata": {
        "id": "Jz0YVBgCR-PM",
        "colab_type": "code",
        "colab": {
          "base_uri": "https://localhost:8080/",
          "height": 34
        },
        "outputId": "2ec7563e-09b8-4b68-9a24-d884436e6b4d"
      },
      "source": [
        "clf = tree.DecisionTreeClassifier()\n",
        "clf = clf.fit(X_train, y_train)\n",
        "from sklearn.metrics import confusion_matrix,accuracy_score\n",
        "y_pred = clf.predict(X_test)\n",
        "y_pred"
      ],
      "execution_count": 47,
      "outputs": [
        {
          "output_type": "execute_result",
          "data": {
            "text/plain": [
              "array([0, 5, 5, ..., 3, 5, 0])"
            ]
          },
          "metadata": {
            "tags": []
          },
          "execution_count": 47
        }
      ]
    },
    {
      "cell_type": "markdown",
      "metadata": {
        "id": "W7-dYlPknBDU",
        "colab_type": "text"
      },
      "source": [
        "##Calculating confusion vector values matrix and accuracy"
      ]
    },
    {
      "cell_type": "code",
      "metadata": {
        "id": "1jUGopbrR-VO",
        "colab_type": "code",
        "colab": {
          "base_uri": "https://localhost:8080/",
          "height": 153
        },
        "outputId": "a6fe92af-d04b-418d-80c2-6b378985c7ad"
      },
      "source": [
        "cm = confusion_matrix(y_test,y_pred)\n",
        "accuracy = accuracy_score(y_test,y_pred)\n",
        "print(\"confusion matrics=\",cm)\n",
        "print(\" \")\n",
        "print(\"accuracy=\",accuracy*100)"
      ],
      "execution_count": 48,
      "outputs": [
        {
          "output_type": "stream",
          "text": [
            "confusion matrics= [[160  74 158 145 147 110]\n",
            " [ 65  29  67  60  65  48]\n",
            " [158  77 166 139 163 118]\n",
            " [128  72 141 120 131  99]\n",
            " [156  82 176 143 151 119]\n",
            " [ 95  59  92 108 109  70]]\n",
            " \n",
            "accuracy= 17.4\n"
          ],
          "name": "stdout"
        }
      ]
    },
    {
      "cell_type": "markdown",
      "metadata": {
        "id": "NzH4IboOnFpF",
        "colab_type": "text"
      },
      "source": [
        "##Performing decision tree classification with entropy as measure"
      ]
    },
    {
      "cell_type": "code",
      "metadata": {
        "id": "y85YLVrKR-eC",
        "colab_type": "code",
        "colab": {
          "base_uri": "https://localhost:8080/",
          "height": 153
        },
        "outputId": "0734f3b4-4faf-4a26-99cc-01064140ff5f"
      },
      "source": [
        "clf_entropy = tree.DecisionTreeClassifier(criterion = \"entropy\",\n",
        "random_state = 10)\n",
        "clf_entropy.fit(X_train, y_train)\n",
        "entropy_y_pred=clf_entropy.predict(X_test)\n",
        "cm_entopy = confusion_matrix(y_test,entropy_y_pred)\n",
        "entropy_accuracy = accuracy_score(y_test,entropy_y_pred)\n",
        "print(\"confusion matrics=\",cm_entopy)\n",
        "print(\" \")\n",
        "print(\"accuracy=\",entropy_accuracy*100)"
      ],
      "execution_count": 49,
      "outputs": [
        {
          "output_type": "stream",
          "text": [
            "confusion matrics= [[167  57 159 125 159 127]\n",
            " [ 72  23  74  57  66  42]\n",
            " [161  82 147 139 158 134]\n",
            " [132  59 157 127 123  93]\n",
            " [163  75 174 137 178 100]\n",
            " [105  38 109  80 115  86]]\n",
            " \n",
            "accuracy= 18.2\n"
          ],
          "name": "stdout"
        }
      ]
    },
    {
      "cell_type": "markdown",
      "metadata": {
        "id": "Qb5xPjIMngJ9",
        "colab_type": "text"
      },
      "source": [
        "##Classification with svm"
      ]
    },
    {
      "cell_type": "code",
      "metadata": {
        "id": "zH4NB0kxR-id",
        "colab_type": "code",
        "colab": {
          "base_uri": "https://localhost:8080/",
          "height": 71
        },
        "outputId": "179084a4-5df4-4f1f-e3a7-faa9afd4044b"
      },
      "source": [
        " from sklearn import svm\n",
        " clf = svm.SVC()\n",
        " clf.fit(X_train, y_train) #------giving test data as input----#\n",
        " svm_y_pred = clf.predict(X_test) #--------doing prediction-----#"
      ],
      "execution_count": 50,
      "outputs": [
        {
          "output_type": "stream",
          "text": [
            "/usr/local/lib/python3.6/dist-packages/sklearn/utils/validation.py:760: DataConversionWarning: A column-vector y was passed when a 1d array was expected. Please change the shape of y to (n_samples, ), for example using ravel().\n",
            "  y = column_or_1d(y, warn=True)\n"
          ],
          "name": "stderr"
        }
      ]
    },
    {
      "cell_type": "markdown",
      "metadata": {
        "id": "dulgSoVdnlVG",
        "colab_type": "text"
      },
      "source": [
        "##Calculating confusion matrix and accuracy"
      ]
    },
    {
      "cell_type": "code",
      "metadata": {
        "id": "dWPoaIJFYBrN",
        "colab_type": "code",
        "colab": {
          "base_uri": "https://localhost:8080/",
          "height": 153
        },
        "outputId": "c13b3b08-c88e-4df5-a4d1-1f926d844494"
      },
      "source": [
        "svm_cm = confusion_matrix(y_test,svm_y_pred)\n",
        "svm_accuracy = accuracy_score(y_test,svm_y_pred)\n",
        "print(\"confusion matrix=\",svm_cm)\n",
        "print(\" \")\n",
        "print(\"accuracy=\",svm_accuracy*100)"
      ],
      "execution_count": 51,
      "outputs": [
        {
          "output_type": "stream",
          "text": [
            "confusion matrix= [[ 88   0 531   0 175   0]\n",
            " [ 46   0 210   0  78   0]\n",
            " [ 89   0 556   0 176   0]\n",
            " [ 89   0 457   0 145   0]\n",
            " [ 93   0 543   0 191   0]\n",
            " [ 67   0 355   0 111   0]]\n",
            " \n",
            "accuracy= 20.875\n"
          ],
          "name": "stdout"
        }
      ]
    },
    {
      "cell_type": "markdown",
      "metadata": {
        "id": "yyU6hJQEnxKn",
        "colab_type": "text"
      },
      "source": [
        "##Classification using xgboost"
      ]
    },
    {
      "cell_type": "code",
      "metadata": {
        "id": "rtk7Sr45YB1_",
        "colab_type": "code",
        "colab": {
          "base_uri": "https://localhost:8080/",
          "height": 34
        },
        "outputId": "47a55f2f-a720-4f1e-f2d0-81de76f67ab6"
      },
      "source": [
        " X_train,X_test,y_train,y_test=train_test_split(X1,y,test_size=0.3,random_state=10)\n",
        " X_train.shape"
      ],
      "execution_count": 52,
      "outputs": [
        {
          "output_type": "execute_result",
          "data": {
            "text/plain": [
              "(14000, 38)"
            ]
          },
          "metadata": {
            "tags": []
          },
          "execution_count": 52
        }
      ]
    },
    {
      "cell_type": "markdown",
      "metadata": {
        "id": "Ue9UDTXjn36E",
        "colab_type": "text"
      },
      "source": [
        "##Converting values of training and testing data into int64 datatype"
      ]
    },
    {
      "cell_type": "code",
      "metadata": {
        "id": "yqvSlyi8YLVw",
        "colab_type": "code",
        "colab": {}
      },
      "source": [
        "X_train=pd.to_numeric(X_train.values.flatten())\n",
        "X_train=X_train.reshape((14000,38))"
      ],
      "execution_count": 57,
      "outputs": []
    },
    {
      "cell_type": "code",
      "metadata": {
        "id": "7ojMt2aFYLb7",
        "colab_type": "code",
        "colab": {
          "base_uri": "https://localhost:8080/",
          "height": 105
        },
        "outputId": "c3ff58e4-a2ec-4149-807b-6beb34f7061d"
      },
      "source": [
        "#-------------importing and defining xgboost functions-----#\n",
        "from xgboost import XGBClassifier\n",
        "model = XGBClassifier()\n",
        "#-----------training and testing with xg boost------#\n",
        "model.fit(X_train, y_train)\n",
        "xgb_y_pred = clf.predict(X_test)"
      ],
      "execution_count": 58,
      "outputs": [
        {
          "output_type": "stream",
          "text": [
            "/usr/local/lib/python3.6/dist-packages/sklearn/preprocessing/_label.py:235: DataConversionWarning: A column-vector y was passed when a 1d array was expected. Please change the shape of y to (n_samples, ), for example using ravel().\n",
            "  y = column_or_1d(y, warn=True)\n",
            "/usr/local/lib/python3.6/dist-packages/sklearn/preprocessing/_label.py:268: DataConversionWarning: A column-vector y was passed when a 1d array was expected. Please change the shape of y to (n_samples, ), for example using ravel().\n",
            "  y = column_or_1d(y, warn=True)\n"
          ],
          "name": "stderr"
        }
      ]
    },
    {
      "cell_type": "markdown",
      "metadata": {
        "id": "0-63EMTXo_8C",
        "colab_type": "text"
      },
      "source": [
        "##Calculating confusion matrix and accuracy after boosting"
      ]
    },
    {
      "cell_type": "code",
      "metadata": {
        "id": "hWxJUw1kYLmm",
        "colab_type": "code",
        "colab": {
          "base_uri": "https://localhost:8080/",
          "height": 153
        },
        "outputId": "8d1bb6d7-88be-4ab3-a46f-7cdeecd75b87"
      },
      "source": [
        "xgb_cm = confusion_matrix(y_test,xgb_y_pred)\n",
        "xgb_accuracy = accuracy_score(y_test,xgb_y_pred)\n",
        "print(\"confusion matrix=\",xgb_cm)\n",
        "print(\" \")\n",
        "print(\"accuracy=\",xgb_accuracy*100)"
      ],
      "execution_count": 59,
      "outputs": [
        {
          "output_type": "stream",
          "text": [
            "confusion matrix= [[138   0 791   0 252   0]\n",
            " [ 76   0 312   0 121   0]\n",
            " [136   0 834   0 250   0]\n",
            " [130   0 690   0 237   0]\n",
            " [150   0 792   0 282   0]\n",
            " [ 98   0 543   0 168   0]]\n",
            " \n",
            "accuracy= 20.9\n"
          ],
          "name": "stdout"
        }
      ]
    }
  ]
}